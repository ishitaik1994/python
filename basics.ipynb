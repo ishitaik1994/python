{
 "cells": [
  {
   "cell_type": "code",
   "execution_count": 2,
   "id": "a2f4fa20",
   "metadata": {},
   "outputs": [
    {
     "name": "stdout",
     "output_type": "stream",
     "text": [
      "It is a function\n"
     ]
    }
   ],
   "source": [
    "print(\"It is a function\")"
   ]
  },
  {
   "cell_type": "code",
   "execution_count": 3,
   "id": "c8e30e9c",
   "metadata": {},
   "outputs": [
    {
     "name": "stdout",
     "output_type": "stream",
     "text": [
      "This is my first python program\n"
     ]
    }
   ],
   "source": [
    "print(\"This is my first python program\")"
   ]
  },
  {
   "cell_type": "code",
   "execution_count": 5,
   "id": "72bd817b",
   "metadata": {},
   "outputs": [
    {
     "ename": "SyntaxError",
     "evalue": "EOL while scanning string literal (CreatorTemp/ipykernel_20256/1966929602.py, line 1)",
     "output_type": "error",
     "traceback": [
      "\u001b[1;36m  File \u001b[1;32m\"C:\\Users\\Public\\Documents\\iSkysoft\\CreatorTemp/ipykernel_20256/1966929602.py\"\u001b[1;36m, line \u001b[1;32m1\u001b[0m\n\u001b[1;33m    print(\"its an error)\u001b[0m\n\u001b[1;37m                        ^\u001b[0m\n\u001b[1;31mSyntaxError\u001b[0m\u001b[1;31m:\u001b[0m EOL while scanning string literal\n"
     ]
    }
   ],
   "source": [
    "print(\"its an error)"
   ]
  },
  {
   "cell_type": "code",
   "execution_count": 7,
   "id": "5a43eac8",
   "metadata": {},
   "outputs": [
    {
     "name": "stdout",
     "output_type": "stream",
     "text": [
      "there is life\n"
     ]
    }
   ],
   "source": [
    "print('there is life')"
   ]
  },
  {
   "cell_type": "code",
   "execution_count": 8,
   "id": "837f99e5",
   "metadata": {},
   "outputs": [
    {
     "ename": "SyntaxError",
     "evalue": "invalid syntax (CreatorTemp/ipykernel_20256/2467072641.py, line 1)",
     "output_type": "error",
     "traceback": [
      "\u001b[1;36m  File \u001b[1;32m\"C:\\Users\\Public\\Documents\\iSkysoft\\CreatorTemp/ipykernel_20256/2467072641.py\"\u001b[1;36m, line \u001b[1;32m1\u001b[0m\n\u001b[1;33m    my name is ishita\u001b[0m\n\u001b[1;37m       ^\u001b[0m\n\u001b[1;31mSyntaxError\u001b[0m\u001b[1;31m:\u001b[0m invalid syntax\n"
     ]
    }
   ],
   "source": [
    "my name is ishita"
   ]
  },
  {
   "cell_type": "code",
   "execution_count": 9,
   "id": "5c5682ff",
   "metadata": {},
   "outputs": [],
   "source": [
    "#my name is ishita"
   ]
  },
  {
   "cell_type": "code",
   "execution_count": 10,
   "id": "44e12c34",
   "metadata": {},
   "outputs": [],
   "source": [
    "#this is a statement/comment"
   ]
  },
  {
   "cell_type": "code",
   "execution_count": 11,
   "id": "d9d021ca",
   "metadata": {},
   "outputs": [
    {
     "data": {
      "text/plain": [
       "'for \\nmultiple\\nline \\ncomment'"
      ]
     },
     "execution_count": 11,
     "metadata": {},
     "output_type": "execute_result"
    }
   ],
   "source": [
    "\"\"\"for \n",
    "multiple\n",
    "line \n",
    "comment\"\"\""
   ]
  },
  {
   "cell_type": "code",
   "execution_count": 12,
   "id": "153ae70e",
   "metadata": {},
   "outputs": [],
   "source": [
    "a = 10"
   ]
  },
  {
   "cell_type": "code",
   "execution_count": 13,
   "id": "dc76d3d9",
   "metadata": {},
   "outputs": [
    {
     "data": {
      "text/plain": [
       "10"
      ]
     },
     "execution_count": 13,
     "metadata": {},
     "output_type": "execute_result"
    }
   ],
   "source": [
    "a"
   ]
  },
  {
   "cell_type": "code",
   "execution_count": 14,
   "id": "ceb23cd0",
   "metadata": {},
   "outputs": [
    {
     "data": {
      "text/plain": [
       "int"
      ]
     },
     "execution_count": 14,
     "metadata": {},
     "output_type": "execute_result"
    }
   ],
   "source": [
    "type(a)"
   ]
  },
  {
   "cell_type": "code",
   "execution_count": 17,
   "id": "14ac6b25",
   "metadata": {},
   "outputs": [],
   "source": [
    "b = \"ishi\""
   ]
  },
  {
   "cell_type": "code",
   "execution_count": 16,
   "id": "2fcaa428",
   "metadata": {},
   "outputs": [
    {
     "data": {
      "text/plain": [
       "str"
      ]
     },
     "execution_count": 16,
     "metadata": {},
     "output_type": "execute_result"
    }
   ],
   "source": [
    "type(b)"
   ]
  },
  {
   "cell_type": "code",
   "execution_count": 18,
   "id": "445eabee",
   "metadata": {},
   "outputs": [
    {
     "data": {
      "text/plain": [
       "'ishi'"
      ]
     },
     "execution_count": 18,
     "metadata": {},
     "output_type": "execute_result"
    }
   ],
   "source": [
    "b"
   ]
  },
  {
   "cell_type": "code",
   "execution_count": 19,
   "id": "76a1a5d3",
   "metadata": {},
   "outputs": [],
   "source": [
    "b = 'ishi'"
   ]
  },
  {
   "cell_type": "code",
   "execution_count": 20,
   "id": "6cda0a27",
   "metadata": {},
   "outputs": [
    {
     "data": {
      "text/plain": [
       "'ishi'"
      ]
     },
     "execution_count": 20,
     "metadata": {},
     "output_type": "execute_result"
    }
   ],
   "source": [
    "b"
   ]
  },
  {
   "cell_type": "code",
   "execution_count": 21,
   "id": "1d9fa283",
   "metadata": {},
   "outputs": [
    {
     "data": {
      "text/plain": [
       "str"
      ]
     },
     "execution_count": 21,
     "metadata": {},
     "output_type": "execute_result"
    }
   ],
   "source": [
    "type(b)"
   ]
  },
  {
   "cell_type": "code",
   "execution_count": 22,
   "id": "340b08ce",
   "metadata": {},
   "outputs": [],
   "source": [
    "#in python when we create a string it will show the output under single quote''"
   ]
  },
  {
   "cell_type": "code",
   "execution_count": 23,
   "id": "5066e18d",
   "metadata": {},
   "outputs": [],
   "source": [
    "a = 15\n",
    "b = \"ik\""
   ]
  },
  {
   "cell_type": "code",
   "execution_count": 24,
   "id": "6c33851b",
   "metadata": {},
   "outputs": [],
   "source": [
    "a, b = 15, \"ik\""
   ]
  },
  {
   "cell_type": "code",
   "execution_count": 25,
   "id": "3466c8cf",
   "metadata": {},
   "outputs": [
    {
     "name": "stdout",
     "output_type": "stream",
     "text": [
      "15 ik\n"
     ]
    }
   ],
   "source": [
    "print(a,b)"
   ]
  },
  {
   "cell_type": "code",
   "execution_count": 26,
   "id": "6e45b992",
   "metadata": {},
   "outputs": [],
   "source": [
    "a, b, c, d = 5, \"my age\", 10, \"my day\""
   ]
  },
  {
   "cell_type": "code",
   "execution_count": 27,
   "id": "83561c98",
   "metadata": {},
   "outputs": [
    {
     "name": "stdout",
     "output_type": "stream",
     "text": [
      "5 my age 10 my day\n"
     ]
    }
   ],
   "source": [
    "print(a,b,c,d)"
   ]
  },
  {
   "cell_type": "code",
   "execution_count": 28,
   "id": "9e042c9c",
   "metadata": {},
   "outputs": [
    {
     "ename": "TypeError",
     "evalue": "type() takes 1 or 3 arguments",
     "output_type": "error",
     "traceback": [
      "\u001b[1;31m---------------------------------------------------------------------------\u001b[0m",
      "\u001b[1;31mTypeError\u001b[0m                                 Traceback (most recent call last)",
      "\u001b[1;32mC:\\Users\\Public\\Documents\\iSkysoft\\CreatorTemp/ipykernel_20256/2443446590.py\u001b[0m in \u001b[0;36m<module>\u001b[1;34m\u001b[0m\n\u001b[1;32m----> 1\u001b[1;33m \u001b[0mtype\u001b[0m\u001b[1;33m(\u001b[0m\u001b[0ma\u001b[0m\u001b[1;33m,\u001b[0m\u001b[0mb\u001b[0m\u001b[1;33m,\u001b[0m\u001b[0mc\u001b[0m\u001b[1;33m,\u001b[0m\u001b[0md\u001b[0m\u001b[1;33m)\u001b[0m\u001b[1;33m\u001b[0m\u001b[1;33m\u001b[0m\u001b[0m\n\u001b[0m",
      "\u001b[1;31mTypeError\u001b[0m: type() takes 1 or 3 arguments"
     ]
    }
   ],
   "source": [
    "type(a,b,c,d)"
   ]
  },
  {
   "cell_type": "code",
   "execution_count": 29,
   "id": "c8bea95f",
   "metadata": {},
   "outputs": [
    {
     "data": {
      "text/plain": [
       "int"
      ]
     },
     "execution_count": 29,
     "metadata": {},
     "output_type": "execute_result"
    }
   ],
   "source": [
    "type(a)"
   ]
  },
  {
   "cell_type": "code",
   "execution_count": 30,
   "id": "db5c8a2d",
   "metadata": {},
   "outputs": [
    {
     "data": {
      "text/plain": [
       "str"
      ]
     },
     "execution_count": 30,
     "metadata": {},
     "output_type": "execute_result"
    }
   ],
   "source": [
    "type(b)"
   ]
  },
  {
   "cell_type": "code",
   "execution_count": 31,
   "id": "8f8db6c1",
   "metadata": {},
   "outputs": [
    {
     "data": {
      "text/plain": [
       "(5, 'my age', 10, 'my day')"
      ]
     },
     "execution_count": 31,
     "metadata": {},
     "output_type": "execute_result"
    }
   ],
   "source": [
    "a, b, c, d"
   ]
  },
  {
   "cell_type": "code",
   "execution_count": 32,
   "id": "443b3710",
   "metadata": {},
   "outputs": [],
   "source": [
    "#these are examples of tupples"
   ]
  },
  {
   "cell_type": "code",
   "execution_count": 33,
   "id": "5d75d500",
   "metadata": {},
   "outputs": [
    {
     "ename": "SyntaxError",
     "evalue": "invalid syntax (CreatorTemp/ipykernel_20256/3252701236.py, line 1)",
     "output_type": "error",
     "traceback": [
      "\u001b[1;36m  File \u001b[1;32m\"C:\\Users\\Public\\Documents\\iSkysoft\\CreatorTemp/ipykernel_20256/3252701236.py\"\u001b[1;36m, line \u001b[1;32m1\u001b[0m\n\u001b[1;33m    1b = 'ishi'\u001b[0m\n\u001b[1;37m     ^\u001b[0m\n\u001b[1;31mSyntaxError\u001b[0m\u001b[1;31m:\u001b[0m invalid syntax\n"
     ]
    }
   ],
   "source": [
    "1b = 'ishi'"
   ]
  },
  {
   "cell_type": "code",
   "execution_count": 34,
   "id": "45c50e45",
   "metadata": {},
   "outputs": [],
   "source": [
    "#we are not supposed to start a variable with integer for more than one digit variable name"
   ]
  },
  {
   "cell_type": "code",
   "execution_count": 35,
   "id": "a42fdfbb",
   "metadata": {},
   "outputs": [],
   "source": [
    "#we can use @ or _ for writing a variable name"
   ]
  },
  {
   "cell_type": "code",
   "execution_count": 36,
   "id": "bd30b1df",
   "metadata": {},
   "outputs": [
    {
     "ename": "SyntaxError",
     "evalue": "invalid decimal literal (CreatorTemp/ipykernel_20256/943484554.py, line 1)",
     "output_type": "error",
     "traceback": [
      "\u001b[1;36m  File \u001b[1;32m\"C:\\Users\\Public\\Documents\\iSkysoft\\CreatorTemp/ipykernel_20256/943484554.py\"\u001b[1;36m, line \u001b[1;32m1\u001b[0m\n\u001b[1;33m    1_b = 3\u001b[0m\n\u001b[1;37m     ^\u001b[0m\n\u001b[1;31mSyntaxError\u001b[0m\u001b[1;31m:\u001b[0m invalid decimal literal\n"
     ]
    }
   ],
   "source": [
    "1_b = 3"
   ]
  },
  {
   "cell_type": "code",
   "execution_count": 37,
   "id": "87adcfaa",
   "metadata": {},
   "outputs": [],
   "source": [
    "b_1 = 34"
   ]
  },
  {
   "cell_type": "code",
   "execution_count": 38,
   "id": "68bea6e3",
   "metadata": {},
   "outputs": [
    {
     "ename": "SyntaxError",
     "evalue": "invalid syntax (CreatorTemp/ipykernel_20256/2251172180.py, line 1)",
     "output_type": "error",
     "traceback": [
      "\u001b[1;36m  File \u001b[1;32m\"C:\\Users\\Public\\Documents\\iSkysoft\\CreatorTemp/ipykernel_20256/2251172180.py\"\u001b[1;36m, line \u001b[1;32m1\u001b[0m\n\u001b[1;33m    1 _b = 3\u001b[0m\n\u001b[1;37m      ^\u001b[0m\n\u001b[1;31mSyntaxError\u001b[0m\u001b[1;31m:\u001b[0m invalid syntax\n"
     ]
    }
   ],
   "source": [
    "1 _b = 3"
   ]
  },
  {
   "cell_type": "code",
   "execution_count": 42,
   "id": "68427772",
   "metadata": {},
   "outputs": [],
   "source": [
    "name = \"ik\"\n",
    "userid = \"ik94\"\n",
    "pw = 34\n",
    "mail = \"se@gmail.com\""
   ]
  },
  {
   "cell_type": "code",
   "execution_count": 43,
   "id": "22a2a6b7",
   "metadata": {},
   "outputs": [
    {
     "data": {
      "text/plain": [
       "('ik', 'ik94', 34, 'se@gmail.com')"
      ]
     },
     "execution_count": 43,
     "metadata": {},
     "output_type": "execute_result"
    }
   ],
   "source": [
    "name, userid, pw, mail"
   ]
  },
  {
   "cell_type": "code",
   "execution_count": 44,
   "id": "ed74c45b",
   "metadata": {},
   "outputs": [
    {
     "ename": "SyntaxError",
     "evalue": "invalid syntax (CreatorTemp/ipykernel_20256/2784333543.py, line 1)",
     "output_type": "error",
     "traceback": [
      "\u001b[1;36m  File \u001b[1;32m\"C:\\Users\\Public\\Documents\\iSkysoft\\CreatorTemp/ipykernel_20256/2784333543.py\"\u001b[1;36m, line \u001b[1;32m1\u001b[0m\n\u001b[1;33m    b& = 34\u001b[0m\n\u001b[1;37m       ^\u001b[0m\n\u001b[1;31mSyntaxError\u001b[0m\u001b[1;31m:\u001b[0m invalid syntax\n"
     ]
    }
   ],
   "source": [
    "b& = 34"
   ]
  },
  {
   "cell_type": "code",
   "execution_count": 45,
   "id": "91409dda",
   "metadata": {},
   "outputs": [],
   "source": [
    "a = 3.5"
   ]
  },
  {
   "cell_type": "code",
   "execution_count": 46,
   "id": "ed5e5624",
   "metadata": {},
   "outputs": [
    {
     "data": {
      "text/plain": [
       "float"
      ]
     },
     "execution_count": 46,
     "metadata": {},
     "output_type": "execute_result"
    }
   ],
   "source": [
    "type(a)"
   ]
  },
  {
   "cell_type": "code",
   "execution_count": 47,
   "id": "114f6824",
   "metadata": {},
   "outputs": [],
   "source": [
    "b = True \n",
    "c = False"
   ]
  },
  {
   "cell_type": "code",
   "execution_count": 48,
   "id": "6897a2ce",
   "metadata": {},
   "outputs": [
    {
     "data": {
      "text/plain": [
       "bool"
      ]
     },
     "execution_count": 48,
     "metadata": {},
     "output_type": "execute_result"
    }
   ],
   "source": [
    "type(b)"
   ]
  },
  {
   "cell_type": "code",
   "execution_count": 49,
   "id": "22f6b162",
   "metadata": {},
   "outputs": [
    {
     "data": {
      "text/plain": [
       "bool"
      ]
     },
     "execution_count": 49,
     "metadata": {},
     "output_type": "execute_result"
    }
   ],
   "source": [
    "type(c)"
   ]
  },
  {
   "cell_type": "code",
   "execution_count": 50,
   "id": "1c571065",
   "metadata": {},
   "outputs": [
    {
     "name": "stdout",
     "output_type": "stream",
     "text": [
      "4\n"
     ]
    }
   ],
   "source": [
    "print(True + True + True + False + True)"
   ]
  },
  {
   "cell_type": "code",
   "execution_count": 51,
   "id": "2b70c171",
   "metadata": {},
   "outputs": [
    {
     "name": "stdout",
     "output_type": "stream",
     "text": [
      "0\n"
     ]
    }
   ],
   "source": [
    "print(False - True + True)"
   ]
  },
  {
   "cell_type": "code",
   "execution_count": 52,
   "id": "afa8c618",
   "metadata": {},
   "outputs": [
    {
     "name": "stdout",
     "output_type": "stream",
     "text": [
      "-1\n"
     ]
    }
   ],
   "source": [
    "print(True - True - True)"
   ]
  },
  {
   "cell_type": "code",
   "execution_count": 53,
   "id": "b8a98efc",
   "metadata": {},
   "outputs": [
    {
     "name": "stdout",
     "output_type": "stream",
     "text": [
      "-1\n"
     ]
    }
   ],
   "source": [
    "print(True - True - True + False + False)"
   ]
  },
  {
   "cell_type": "code",
   "execution_count": 54,
   "id": "525cc49c",
   "metadata": {},
   "outputs": [],
   "source": [
    "#value of true = 1; value of false = 0"
   ]
  },
  {
   "cell_type": "code",
   "execution_count": 55,
   "id": "602213ab",
   "metadata": {},
   "outputs": [
    {
     "ename": "ZeroDivisionError",
     "evalue": "division by zero",
     "output_type": "error",
     "traceback": [
      "\u001b[1;31m---------------------------------------------------------------------------\u001b[0m",
      "\u001b[1;31mZeroDivisionError\u001b[0m                         Traceback (most recent call last)",
      "\u001b[1;32mC:\\Users\\Public\\Documents\\iSkysoft\\CreatorTemp/ipykernel_20256/2917913318.py\u001b[0m in \u001b[0;36m<module>\u001b[1;34m\u001b[0m\n\u001b[1;32m----> 1\u001b[1;33m \u001b[1;32mTrue\u001b[0m \u001b[1;33m/\u001b[0m \u001b[1;32mFalse\u001b[0m\u001b[1;33m\u001b[0m\u001b[1;33m\u001b[0m\u001b[0m\n\u001b[0m",
      "\u001b[1;31mZeroDivisionError\u001b[0m: division by zero"
     ]
    }
   ],
   "source": [
    "True / False"
   ]
  },
  {
   "cell_type": "code",
   "execution_count": 56,
   "id": "cacff576",
   "metadata": {},
   "outputs": [
    {
     "ename": "ZeroDivisionError",
     "evalue": "division by zero",
     "output_type": "error",
     "traceback": [
      "\u001b[1;31m---------------------------------------------------------------------------\u001b[0m",
      "\u001b[1;31mZeroDivisionError\u001b[0m                         Traceback (most recent call last)",
      "\u001b[1;32mC:\\Users\\Public\\Documents\\iSkysoft\\CreatorTemp/ipykernel_20256/3765822403.py\u001b[0m in \u001b[0;36m<module>\u001b[1;34m\u001b[0m\n\u001b[1;32m----> 1\u001b[1;33m \u001b[0mprint\u001b[0m\u001b[1;33m(\u001b[0m\u001b[1;32mTrue\u001b[0m \u001b[1;33m/\u001b[0m \u001b[1;32mFalse\u001b[0m\u001b[1;33m)\u001b[0m\u001b[1;33m\u001b[0m\u001b[1;33m\u001b[0m\u001b[0m\n\u001b[0m",
      "\u001b[1;31mZeroDivisionError\u001b[0m: division by zero"
     ]
    }
   ],
   "source": [
    "print(True / False)"
   ]
  },
  {
   "cell_type": "code",
   "execution_count": 57,
   "id": "e295baa3",
   "metadata": {},
   "outputs": [
    {
     "name": "stdout",
     "output_type": "stream",
     "text": [
      "0.0\n"
     ]
    }
   ],
   "source": [
    "print(False/True)"
   ]
  },
  {
   "cell_type": "code",
   "execution_count": 58,
   "id": "c1deb337",
   "metadata": {},
   "outputs": [],
   "source": [
    "#0/anything = 0\n",
    "#anything/0 = infinity"
   ]
  },
  {
   "cell_type": "code",
   "execution_count": 59,
   "id": "acba259e",
   "metadata": {},
   "outputs": [],
   "source": [
    "#division by zero is an error in python"
   ]
  },
  {
   "cell_type": "code",
   "execution_count": 60,
   "id": "9dc3317f",
   "metadata": {},
   "outputs": [],
   "source": [
    "n = 45 + 6j"
   ]
  },
  {
   "cell_type": "code",
   "execution_count": 61,
   "id": "d4a7f40a",
   "metadata": {},
   "outputs": [
    {
     "data": {
      "text/plain": [
       "complex"
      ]
     },
     "execution_count": 61,
     "metadata": {},
     "output_type": "execute_result"
    }
   ],
   "source": [
    "type(n)"
   ]
  },
  {
   "cell_type": "code",
   "execution_count": 62,
   "id": "f2e93456",
   "metadata": {},
   "outputs": [
    {
     "data": {
      "text/plain": [
       "45.0"
      ]
     },
     "execution_count": 62,
     "metadata": {},
     "output_type": "execute_result"
    }
   ],
   "source": [
    "n.real"
   ]
  },
  {
   "cell_type": "code",
   "execution_count": 63,
   "id": "835084f5",
   "metadata": {},
   "outputs": [
    {
     "data": {
      "text/plain": [
       "6.0"
      ]
     },
     "execution_count": 63,
     "metadata": {},
     "output_type": "execute_result"
    }
   ],
   "source": [
    "n.imag"
   ]
  },
  {
   "cell_type": "code",
   "execution_count": 64,
   "id": "3609e8cc",
   "metadata": {},
   "outputs": [],
   "source": [
    "n = 45 + 6j\n",
    "m = 56 + 8j"
   ]
  },
  {
   "cell_type": "code",
   "execution_count": 65,
   "id": "609a5b65",
   "metadata": {},
   "outputs": [
    {
     "data": {
      "text/plain": [
       "(2472+696j)"
      ]
     },
     "execution_count": 65,
     "metadata": {},
     "output_type": "execute_result"
    }
   ],
   "source": [
    "n*m"
   ]
  },
  {
   "cell_type": "code",
   "execution_count": 66,
   "id": "c10ae8e0",
   "metadata": {},
   "outputs": [
    {
     "ename": "SyntaxError",
     "evalue": "cannot assign to literal (CreatorTemp/ipykernel_20256/1296898513.py, line 1)",
     "output_type": "error",
     "traceback": [
      "\u001b[1;36m  File \u001b[1;32m\"C:\\Users\\Public\\Documents\\iSkysoft\\CreatorTemp/ipykernel_20256/1296898513.py\"\u001b[1;36m, line \u001b[1;32m1\u001b[0m\n\u001b[1;33m    1 = \"ishi\"\u001b[0m\n\u001b[1;37m    ^\u001b[0m\n\u001b[1;31mSyntaxError\u001b[0m\u001b[1;31m:\u001b[0m cannot assign to literal\n"
     ]
    }
   ],
   "source": [
    "1 = \"ishi\""
   ]
  },
  {
   "cell_type": "code",
   "execution_count": 67,
   "id": "69a19e88",
   "metadata": {},
   "outputs": [
    {
     "ename": "TypeError",
     "evalue": "unsupported operand type(s) for +: 'int' and 'str'",
     "output_type": "error",
     "traceback": [
      "\u001b[1;31m---------------------------------------------------------------------------\u001b[0m",
      "\u001b[1;31mTypeError\u001b[0m                                 Traceback (most recent call last)",
      "\u001b[1;32mC:\\Users\\Public\\Documents\\iSkysoft\\CreatorTemp/ipykernel_20256/115381409.py\u001b[0m in \u001b[0;36m<module>\u001b[1;34m\u001b[0m\n\u001b[1;32m----> 1\u001b[1;33m \u001b[1;36m1\u001b[0m \u001b[1;33m+\u001b[0m \u001b[1;34m\"ishi\"\u001b[0m\u001b[1;33m\u001b[0m\u001b[1;33m\u001b[0m\u001b[0m\n\u001b[0m",
      "\u001b[1;31mTypeError\u001b[0m: unsupported operand type(s) for +: 'int' and 'str'"
     ]
    }
   ],
   "source": [
    "1 + \"ishi\""
   ]
  },
  {
   "cell_type": "code",
   "execution_count": 68,
   "id": "336d5bcb",
   "metadata": {},
   "outputs": [
    {
     "ename": "SyntaxError",
     "evalue": "invalid syntax (CreatorTemp/ipykernel_20256/2450120046.py, line 1)",
     "output_type": "error",
     "traceback": [
      "\u001b[1;36m  File \u001b[1;32m\"C:\\Users\\Public\\Documents\\iSkysoft\\CreatorTemp/ipykernel_20256/2450120046.py\"\u001b[1;36m, line \u001b[1;32m1\u001b[0m\n\u001b[1;33m    1 1 + \"ishi\"\u001b[0m\n\u001b[1;37m      ^\u001b[0m\n\u001b[1;31mSyntaxError\u001b[0m\u001b[1;31m:\u001b[0m invalid syntax\n"
     ]
    }
   ],
   "source": [
    "1 1 + \"ishi\""
   ]
  },
  {
   "cell_type": "code",
   "execution_count": 69,
   "id": "d71b6e2b",
   "metadata": {},
   "outputs": [],
   "source": [
    "#these 2 are different data types so we cannot operate on them\n",
    "#if we are using heterogeneous data types we can't perform operations \n",
    "#only we can use operations in homogeneous data"
   ]
  },
  {
   "cell_type": "code",
   "execution_count": 70,
   "id": "0a230e6e",
   "metadata": {},
   "outputs": [
    {
     "data": {
      "text/plain": [
       "'1ishi'"
      ]
     },
     "execution_count": 70,
     "metadata": {},
     "output_type": "execute_result"
    }
   ],
   "source": [
    "'1' + 'ishi'"
   ]
  },
  {
   "cell_type": "code",
   "execution_count": 71,
   "id": "cc4e0921",
   "metadata": {},
   "outputs": [
    {
     "data": {
      "text/plain": [
       "2.1"
      ]
     },
     "execution_count": 71,
     "metadata": {},
     "output_type": "execute_result"
    }
   ],
   "source": [
    "1 + 1.10"
   ]
  },
  {
   "cell_type": "code",
   "execution_count": 72,
   "id": "bbff308a",
   "metadata": {},
   "outputs": [
    {
     "data": {
      "text/plain": [
       "2.0"
      ]
     },
     "execution_count": 72,
     "metadata": {},
     "output_type": "execute_result"
    }
   ],
   "source": [
    "1+1.0"
   ]
  },
  {
   "cell_type": "code",
   "execution_count": 73,
   "id": "cf1951d5",
   "metadata": {},
   "outputs": [],
   "source": [
    "#this is called self upcasting where it arranges the output into the next level type\n",
    "#note that float type variables need more space so the upcasting happens\n",
    "#it operates a casting operation"
   ]
  },
  {
   "cell_type": "code",
   "execution_count": 74,
   "id": "3d9389a9",
   "metadata": {},
   "outputs": [
    {
     "data": {
      "text/plain": [
       "'ishiishiishi'"
      ]
     },
     "execution_count": 74,
     "metadata": {},
     "output_type": "execute_result"
    }
   ],
   "source": [
    "'ishi' + 'ishi' + 'ishi'"
   ]
  },
  {
   "cell_type": "code",
   "execution_count": 75,
   "id": "f84a07a4",
   "metadata": {},
   "outputs": [],
   "source": [
    "#this is called concardinate operation"
   ]
  },
  {
   "cell_type": "code",
   "execution_count": 76,
   "id": "bfe97fe3",
   "metadata": {},
   "outputs": [
    {
     "data": {
      "text/plain": [
       "'ishiishiishiishi'"
      ]
     },
     "execution_count": 76,
     "metadata": {},
     "output_type": "execute_result"
    }
   ],
   "source": [
    "'ishi' * 4"
   ]
  },
  {
   "cell_type": "code",
   "execution_count": 78,
   "id": "17d382a4",
   "metadata": {},
   "outputs": [],
   "source": [
    "#note substraction or division does not work with string data type\n",
    "#type casting"
   ]
  },
  {
   "cell_type": "code",
   "execution_count": 80,
   "id": "946f1da5",
   "metadata": {},
   "outputs": [
    {
     "name": "stderr",
     "output_type": "stream",
     "text": [
      "<>:1: SyntaxWarning: 'int' object is not callable; perhaps you missed a comma?\n",
      "<>:1: SyntaxWarning: 'int' object is not callable; perhaps you missed a comma?\n",
      "C:\\Users\\Public\\Documents\\iSkysoft\\CreatorTemp/ipykernel_20256/2892145127.py:1: SyntaxWarning: 'int' object is not callable; perhaps you missed a comma?\n",
      "  1 (str) + \"ishi\"\n"
     ]
    },
    {
     "ename": "TypeError",
     "evalue": "'int' object is not callable",
     "output_type": "error",
     "traceback": [
      "\u001b[1;31m---------------------------------------------------------------------------\u001b[0m",
      "\u001b[1;31mTypeError\u001b[0m                                 Traceback (most recent call last)",
      "\u001b[1;32mC:\\Users\\Public\\Documents\\iSkysoft\\CreatorTemp/ipykernel_20256/2892145127.py\u001b[0m in \u001b[0;36m<module>\u001b[1;34m\u001b[0m\n\u001b[1;32m----> 1\u001b[1;33m \u001b[1;36m1\u001b[0m \u001b[1;33m(\u001b[0m\u001b[0mstr\u001b[0m\u001b[1;33m)\u001b[0m \u001b[1;33m+\u001b[0m \u001b[1;34m\"ishi\"\u001b[0m\u001b[1;33m\u001b[0m\u001b[1;33m\u001b[0m\u001b[0m\n\u001b[0m",
      "\u001b[1;31mTypeError\u001b[0m: 'int' object is not callable"
     ]
    }
   ],
   "source": [
    "1 (str) + \"ishi\""
   ]
  },
  {
   "cell_type": "code",
   "execution_count": 81,
   "id": "ebb7efe8",
   "metadata": {},
   "outputs": [
    {
     "data": {
      "text/plain": [
       "23"
      ]
     },
     "execution_count": 81,
     "metadata": {},
     "output_type": "execute_result"
    }
   ],
   "source": [
    "int('23')"
   ]
  },
  {
   "cell_type": "code",
   "execution_count": 82,
   "id": "a0670c9f",
   "metadata": {},
   "outputs": [
    {
     "ename": "SyntaxError",
     "evalue": "invalid syntax (CreatorTemp/ipykernel_20256/1049335959.py, line 1)",
     "output_type": "error",
     "traceback": [
      "\u001b[1;36m  File \u001b[1;32m\"C:\\Users\\Public\\Documents\\iSkysoft\\CreatorTemp/ipykernel_20256/1049335959.py\"\u001b[1;36m, line \u001b[1;32m1\u001b[0m\n\u001b[1;33m    str 1 + \"ishi\"\u001b[0m\n\u001b[1;37m        ^\u001b[0m\n\u001b[1;31mSyntaxError\u001b[0m\u001b[1;31m:\u001b[0m invalid syntax\n"
     ]
    }
   ],
   "source": [
    "str 1 + \"ishi\""
   ]
  },
  {
   "cell_type": "code",
   "execution_count": 83,
   "id": "ee1affc6",
   "metadata": {},
   "outputs": [],
   "source": [
    "#we can use only j in a complex number not any other letter it will be an error"
   ]
  },
  {
   "cell_type": "code",
   "execution_count": 84,
   "id": "5c741ea1",
   "metadata": {},
   "outputs": [
    {
     "data": {
      "text/plain": [
       "23"
      ]
     },
     "execution_count": 84,
     "metadata": {},
     "output_type": "execute_result"
    }
   ],
   "source": [
    "int('23')"
   ]
  },
  {
   "cell_type": "code",
   "execution_count": 85,
   "id": "52676556",
   "metadata": {},
   "outputs": [
    {
     "ename": "ValueError",
     "evalue": "invalid literal for int() with base 10: 'ishi'",
     "output_type": "error",
     "traceback": [
      "\u001b[1;31m---------------------------------------------------------------------------\u001b[0m",
      "\u001b[1;31mValueError\u001b[0m                                Traceback (most recent call last)",
      "\u001b[1;32mC:\\Users\\Public\\Documents\\iSkysoft\\CreatorTemp/ipykernel_20256/2557359238.py\u001b[0m in \u001b[0;36m<module>\u001b[1;34m\u001b[0m\n\u001b[1;32m----> 1\u001b[1;33m \u001b[0mint\u001b[0m\u001b[1;33m(\u001b[0m\u001b[1;34m\"ishi\"\u001b[0m\u001b[1;33m)\u001b[0m\u001b[1;33m\u001b[0m\u001b[1;33m\u001b[0m\u001b[0m\n\u001b[0m",
      "\u001b[1;31mValueError\u001b[0m: invalid literal for int() with base 10: 'ishi'"
     ]
    }
   ],
   "source": [
    "int(\"ishi\")"
   ]
  },
  {
   "cell_type": "code",
   "execution_count": 86,
   "id": "b259b43a",
   "metadata": {},
   "outputs": [],
   "source": [
    "#we can only use integers in integer string alplaneumeric strs will generate errors "
   ]
  },
  {
   "cell_type": "code",
   "execution_count": 87,
   "id": "6a356f11",
   "metadata": {},
   "outputs": [
    {
     "ename": "TypeError",
     "evalue": "can't multiply sequence by non-int of type 'str'",
     "output_type": "error",
     "traceback": [
      "\u001b[1;31m---------------------------------------------------------------------------\u001b[0m",
      "\u001b[1;31mTypeError\u001b[0m                                 Traceback (most recent call last)",
      "\u001b[1;32mC:\\Users\\Public\\Documents\\iSkysoft\\CreatorTemp/ipykernel_20256/2011698340.py\u001b[0m in \u001b[0;36m<module>\u001b[1;34m\u001b[0m\n\u001b[1;32m----> 1\u001b[1;33m \u001b[1;34m\"ishi\"\u001b[0m \u001b[1;33m*\u001b[0m \u001b[1;34m\"ishi\"\u001b[0m\u001b[1;33m\u001b[0m\u001b[1;33m\u001b[0m\u001b[0m\n\u001b[0m",
      "\u001b[1;31mTypeError\u001b[0m: can't multiply sequence by non-int of type 'str'"
     ]
    }
   ],
   "source": [
    "\"ishi\" * \"ishi\""
   ]
  },
  {
   "cell_type": "code",
   "execution_count": 88,
   "id": "eb9d0e6b",
   "metadata": {},
   "outputs": [
    {
     "name": "stdout",
     "output_type": "stream",
     "text": [
      "98\n"
     ]
    }
   ],
   "source": [
    "a = input()"
   ]
  },
  {
   "cell_type": "code",
   "execution_count": 89,
   "id": "564c7c99",
   "metadata": {},
   "outputs": [
    {
     "name": "stdout",
     "output_type": "stream",
     "text": [
      "enter an integerik\n"
     ]
    }
   ],
   "source": [
    "a = input(\"enter an integer \")"
   ]
  },
  {
   "cell_type": "code",
   "execution_count": 90,
   "id": "f19043e5",
   "metadata": {},
   "outputs": [
    {
     "data": {
      "text/plain": [
       "str"
      ]
     },
     "execution_count": 90,
     "metadata": {},
     "output_type": "execute_result"
    }
   ],
   "source": [
    "type(a)"
   ]
  },
  {
   "cell_type": "code",
   "execution_count": 91,
   "id": "3eb455ac",
   "metadata": {},
   "outputs": [
    {
     "name": "stdout",
     "output_type": "stream",
     "text": [
      "enter an integer 983\n"
     ]
    }
   ],
   "source": [
    "a = input (\"enter an integer \")"
   ]
  },
  {
   "cell_type": "code",
   "execution_count": 92,
   "id": "e3dbbbad",
   "metadata": {},
   "outputs": [
    {
     "data": {
      "text/plain": [
       "str"
      ]
     },
     "execution_count": 92,
     "metadata": {},
     "output_type": "execute_result"
    }
   ],
   "source": [
    "type(a)"
   ]
  },
  {
   "cell_type": "code",
   "execution_count": 93,
   "id": "324eb57d",
   "metadata": {},
   "outputs": [
    {
     "name": "stdout",
     "output_type": "stream",
     "text": [
      "enter an integer 4\n",
      "enter an integer 6\n",
      "enter an integer 98\n"
     ]
    }
   ],
   "source": [
    "a = input (\"enter an integer \")\n",
    "b = input (\"enter an integer \")\n",
    "c = input (\"enter an integer \")"
   ]
  },
  {
   "cell_type": "code",
   "execution_count": 94,
   "id": "27d8378f",
   "metadata": {},
   "outputs": [
    {
     "ename": "TypeError",
     "evalue": "unsupported operand type(s) for -: 'str' and 'str'",
     "output_type": "error",
     "traceback": [
      "\u001b[1;31m---------------------------------------------------------------------------\u001b[0m",
      "\u001b[1;31mTypeError\u001b[0m                                 Traceback (most recent call last)",
      "\u001b[1;32mC:\\Users\\Public\\Documents\\iSkysoft\\CreatorTemp/ipykernel_20256/951212402.py\u001b[0m in \u001b[0;36m<module>\u001b[1;34m\u001b[0m\n\u001b[1;32m----> 1\u001b[1;33m \u001b[0mprint\u001b[0m\u001b[1;33m(\u001b[0m\u001b[0ma\u001b[0m \u001b[1;33m+\u001b[0m \u001b[0mc\u001b[0m \u001b[1;33m-\u001b[0m \u001b[0mb\u001b[0m\u001b[1;33m)\u001b[0m\u001b[1;33m\u001b[0m\u001b[1;33m\u001b[0m\u001b[0m\n\u001b[0m",
      "\u001b[1;31mTypeError\u001b[0m: unsupported operand type(s) for -: 'str' and 'str'"
     ]
    }
   ],
   "source": [
    "print(a + c - b)"
   ]
  },
  {
   "cell_type": "code",
   "execution_count": 95,
   "id": "0be0e241",
   "metadata": {},
   "outputs": [
    {
     "name": "stdout",
     "output_type": "stream",
     "text": [
      "enter an integer 3\n",
      "enter an integer 5\n",
      "enter an integer 7\n"
     ]
    }
   ],
   "source": [
    "a = int(input (\"enter an integer \"))\n",
    "b = int(input (\"enter an integer \"))\n",
    "c = int(input (\"enter an integer \"))"
   ]
  },
  {
   "cell_type": "code",
   "execution_count": 96,
   "id": "015ce7b1",
   "metadata": {},
   "outputs": [
    {
     "data": {
      "text/plain": [
       "1"
      ]
     },
     "execution_count": 96,
     "metadata": {},
     "output_type": "execute_result"
    }
   ],
   "source": [
    "a + b - c"
   ]
  },
  {
   "cell_type": "code",
   "execution_count": 97,
   "id": "5e389199",
   "metadata": {},
   "outputs": [
    {
     "data": {
      "text/plain": [
       "3.7142857142857144"
      ]
     },
     "execution_count": 97,
     "metadata": {},
     "output_type": "execute_result"
    }
   ],
   "source": [
    "a + b / c"
   ]
  },
  {
   "cell_type": "code",
   "execution_count": 98,
   "id": "d0aadf46",
   "metadata": {},
   "outputs": [
    {
     "data": {
      "text/plain": [
       "(3.7142857142857144+87j)"
      ]
     },
     "execution_count": 98,
     "metadata": {},
     "output_type": "execute_result"
    }
   ],
   "source": [
    "3.7142857142857144 + 87j"
   ]
  },
  {
   "cell_type": "code",
   "execution_count": 99,
   "id": "415c2c76",
   "metadata": {},
   "outputs": [
    {
     "name": "stdout",
     "output_type": "stream",
     "text": [
      "enter an integer 3\n",
      "enter an integer 4\n",
      "enter an integer 2\n"
     ]
    }
   ],
   "source": [
    "a = int(input (\"enter an integer \"))\n",
    "b = int(input (\"enter an integer \"))\n",
    "c = int(input (\"enter an integer \"))"
   ]
  },
  {
   "cell_type": "code",
   "execution_count": 100,
   "id": "57bd630d",
   "metadata": {},
   "outputs": [
    {
     "data": {
      "text/plain": [
       "6.0"
      ]
     },
     "execution_count": 100,
     "metadata": {},
     "output_type": "execute_result"
    }
   ],
   "source": [
    "a * b / c"
   ]
  },
  {
   "cell_type": "code",
   "execution_count": 101,
   "id": "75ee781a",
   "metadata": {},
   "outputs": [
    {
     "data": {
      "text/plain": [
       "(6+4j)"
      ]
     },
     "execution_count": 101,
     "metadata": {},
     "output_type": "execute_result"
    }
   ],
   "source": [
    "6.0 + 4j"
   ]
  },
  {
   "cell_type": "code",
   "execution_count": 102,
   "id": "1fb36f37",
   "metadata": {},
   "outputs": [
    {
     "data": {
      "text/plain": [
       "3.5"
      ]
     },
     "execution_count": 102,
     "metadata": {},
     "output_type": "execute_result"
    }
   ],
   "source": [
    "(a + b) / c"
   ]
  },
  {
   "cell_type": "code",
   "execution_count": 103,
   "id": "7891a57d",
   "metadata": {},
   "outputs": [
    {
     "ename": "SyntaxError",
     "evalue": "invalid syntax (CreatorTemp/ipykernel_20256/161858562.py, line 1)",
     "output_type": "error",
     "traceback": [
      "\u001b[1;36m  File \u001b[1;32m\"C:\\Users\\Public\\Documents\\iSkysoft\\CreatorTemp/ipykernel_20256/161858562.py\"\u001b[1;36m, line \u001b[1;32m1\u001b[0m\n\u001b[1;33m    e = 3.5 + 2k\u001b[0m\n\u001b[1;37m               ^\u001b[0m\n\u001b[1;31mSyntaxError\u001b[0m\u001b[1;31m:\u001b[0m invalid syntax\n"
     ]
    }
   ],
   "source": [
    "e = 3.5 + 2k"
   ]
  },
  {
   "cell_type": "code",
   "execution_count": 104,
   "id": "efd84cc2",
   "metadata": {},
   "outputs": [],
   "source": [
    "e = 3.5 + 4j"
   ]
  },
  {
   "cell_type": "code",
   "execution_count": 105,
   "id": "959b179f",
   "metadata": {},
   "outputs": [
    {
     "ename": "TypeError",
     "evalue": "unsupported operand type(s) for +: 'complex' and 'str'",
     "output_type": "error",
     "traceback": [
      "\u001b[1;31m---------------------------------------------------------------------------\u001b[0m",
      "\u001b[1;31mTypeError\u001b[0m                                 Traceback (most recent call last)",
      "\u001b[1;32mC:\\Users\\Public\\Documents\\iSkysoft\\CreatorTemp/ipykernel_20256/4034337865.py\u001b[0m in \u001b[0;36m<module>\u001b[1;34m\u001b[0m\n\u001b[1;32m----> 1\u001b[1;33m \u001b[0me\u001b[0m \u001b[1;33m+\u001b[0m \u001b[1;34m\"ishi\"\u001b[0m\u001b[1;33m\u001b[0m\u001b[1;33m\u001b[0m\u001b[0m\n\u001b[0m",
      "\u001b[1;31mTypeError\u001b[0m: unsupported operand type(s) for +: 'complex' and 'str'"
     ]
    }
   ],
   "source": [
    "e + \"ishi\""
   ]
  },
  {
   "cell_type": "code",
   "execution_count": 106,
   "id": "25489294",
   "metadata": {},
   "outputs": [],
   "source": [
    "e = 3.5 + 4j "
   ]
  },
  {
   "cell_type": "code",
   "execution_count": 107,
   "id": "37b7ba8e",
   "metadata": {},
   "outputs": [
    {
     "data": {
      "text/plain": [
       "(3.5+4j)"
      ]
     },
     "execution_count": 107,
     "metadata": {},
     "output_type": "execute_result"
    }
   ],
   "source": [
    "e"
   ]
  },
  {
   "cell_type": "code",
   "execution_count": 108,
   "id": "cbbb7b07",
   "metadata": {},
   "outputs": [
    {
     "ename": "TypeError",
     "evalue": "unsupported operand type(s) for +: 'complex' and 'str'",
     "output_type": "error",
     "traceback": [
      "\u001b[1;31m---------------------------------------------------------------------------\u001b[0m",
      "\u001b[1;31mTypeError\u001b[0m                                 Traceback (most recent call last)",
      "\u001b[1;32mC:\\Users\\Public\\Documents\\iSkysoft\\CreatorTemp/ipykernel_20256/2204254202.py\u001b[0m in \u001b[0;36m<module>\u001b[1;34m\u001b[0m\n\u001b[1;32m----> 1\u001b[1;33m \u001b[1;36m3.5\u001b[0m\u001b[1;33m+\u001b[0m\u001b[1;36m4j\u001b[0m \u001b[1;33m+\u001b[0m \u001b[1;34m'ishi'\u001b[0m\u001b[1;33m\u001b[0m\u001b[1;33m\u001b[0m\u001b[0m\n\u001b[0m",
      "\u001b[1;31mTypeError\u001b[0m: unsupported operand type(s) for +: 'complex' and 'str'"
     ]
    }
   ],
   "source": [
    "3.5+4j + 'ishi'"
   ]
  },
  {
   "cell_type": "code",
   "execution_count": 109,
   "id": "b8baece8",
   "metadata": {},
   "outputs": [
    {
     "ename": "TypeError",
     "evalue": "unsupported operand type(s) for +: 'complex' and 'str'",
     "output_type": "error",
     "traceback": [
      "\u001b[1;31m---------------------------------------------------------------------------\u001b[0m",
      "\u001b[1;31mTypeError\u001b[0m                                 Traceback (most recent call last)",
      "\u001b[1;32mC:\\Users\\Public\\Documents\\iSkysoft\\CreatorTemp/ipykernel_20256/4034337865.py\u001b[0m in \u001b[0;36m<module>\u001b[1;34m\u001b[0m\n\u001b[1;32m----> 1\u001b[1;33m \u001b[0me\u001b[0m \u001b[1;33m+\u001b[0m \u001b[1;34m\"ishi\"\u001b[0m\u001b[1;33m\u001b[0m\u001b[1;33m\u001b[0m\u001b[0m\n\u001b[0m",
      "\u001b[1;31mTypeError\u001b[0m: unsupported operand type(s) for +: 'complex' and 'str'"
     ]
    }
   ],
   "source": [
    "e + \"ishi\""
   ]
  },
  {
   "cell_type": "code",
   "execution_count": 110,
   "id": "cb3a9763",
   "metadata": {},
   "outputs": [
    {
     "ename": "NameError",
     "evalue": "name 'ishi' is not defined",
     "output_type": "error",
     "traceback": [
      "\u001b[1;31m---------------------------------------------------------------------------\u001b[0m",
      "\u001b[1;31mNameError\u001b[0m                                 Traceback (most recent call last)",
      "\u001b[1;32mC:\\Users\\Public\\Documents\\iSkysoft\\CreatorTemp/ipykernel_20256/3667144491.py\u001b[0m in \u001b[0;36m<module>\u001b[1;34m\u001b[0m\n\u001b[1;32m----> 1\u001b[1;33m \u001b[1;36m3.5\u001b[0m\u001b[1;33m+\u001b[0m\u001b[1;36m4j\u001b[0m \u001b[1;33m+\u001b[0m \u001b[0mishi\u001b[0m\u001b[1;33m\u001b[0m\u001b[1;33m\u001b[0m\u001b[0m\n\u001b[0m",
      "\u001b[1;31mNameError\u001b[0m: name 'ishi' is not defined"
     ]
    }
   ],
   "source": [
    "3.5+4j + ishi"
   ]
  },
  {
   "cell_type": "code",
   "execution_count": 111,
   "id": "52e82133",
   "metadata": {},
   "outputs": [
    {
     "data": {
      "text/plain": [
       "'3.5+4jishi'"
      ]
     },
     "execution_count": 111,
     "metadata": {},
     "output_type": "execute_result"
    }
   ],
   "source": [
    "'3.5+4j' + 'ishi'"
   ]
  },
  {
   "cell_type": "code",
   "execution_count": 191,
   "id": "70bf2d91",
   "metadata": {},
   "outputs": [],
   "source": [
    "#solving the problem using int before input was right"
   ]
  },
  {
   "cell_type": "code",
   "execution_count": 113,
   "id": "90d5bad0",
   "metadata": {},
   "outputs": [
    {
     "name": "stdout",
     "output_type": "stream",
     "text": [
      "enter an integer 1\n",
      "enter an integer 2\n",
      "enter an integer 3\n"
     ]
    }
   ],
   "source": [
    "a = input (\"enter an integer \")\n",
    "b = input (\"enter an integer \")\n",
    "c = input (\"enter an integer \")"
   ]
  },
  {
   "cell_type": "code",
   "execution_count": 115,
   "id": "e9b19a21",
   "metadata": {},
   "outputs": [
    {
     "name": "stdout",
     "output_type": "stream",
     "text": [
      "enter an integer 1\n",
      "enter an integer 2\n",
      "enter an integer 3\n"
     ]
    }
   ],
   "source": [
    "a = int(input (\"enter an integer \"))\n",
    "b = int(input (\"enter an integer \"))\n",
    "c = int(input (\"enter an integer \"))"
   ]
  },
  {
   "cell_type": "code",
   "execution_count": 116,
   "id": "450fb4ec",
   "metadata": {},
   "outputs": [
    {
     "data": {
      "text/plain": [
       "(79.66666666666667+6j)"
      ]
     },
     "execution_count": 116,
     "metadata": {},
     "output_type": "execute_result"
    }
   ],
   "source": [
    "o = a + b / c\n",
    "o + 78 + 6j"
   ]
  },
  {
   "cell_type": "code",
   "execution_count": 117,
   "id": "6a04ca0f",
   "metadata": {},
   "outputs": [
    {
     "data": {
      "text/plain": [
       "1.6666666666666665"
      ]
     },
     "execution_count": 117,
     "metadata": {},
     "output_type": "execute_result"
    }
   ],
   "source": [
    "o"
   ]
  },
  {
   "cell_type": "code",
   "execution_count": 118,
   "id": "0fe2fc46",
   "metadata": {},
   "outputs": [
    {
     "data": {
      "text/plain": [
       "float"
      ]
     },
     "execution_count": 118,
     "metadata": {},
     "output_type": "execute_result"
    }
   ],
   "source": [
    "type(o)"
   ]
  },
  {
   "cell_type": "code",
   "execution_count": 119,
   "id": "2813c8f3",
   "metadata": {},
   "outputs": [],
   "source": [
    "o1 = o + 78 + 6j"
   ]
  },
  {
   "cell_type": "code",
   "execution_count": 120,
   "id": "e3ca9b7b",
   "metadata": {},
   "outputs": [
    {
     "data": {
      "text/plain": [
       "(79.66666666666667+6j)"
      ]
     },
     "execution_count": 120,
     "metadata": {},
     "output_type": "execute_result"
    }
   ],
   "source": [
    "o1"
   ]
  },
  {
   "cell_type": "code",
   "execution_count": 121,
   "id": "9a9de9ed",
   "metadata": {},
   "outputs": [
    {
     "data": {
      "text/plain": [
       "complex"
      ]
     },
     "execution_count": 121,
     "metadata": {},
     "output_type": "execute_result"
    }
   ],
   "source": [
    "type(o1)"
   ]
  },
  {
   "cell_type": "code",
   "execution_count": 122,
   "id": "f7dc1bec",
   "metadata": {},
   "outputs": [
    {
     "data": {
      "text/plain": [
       "'(79.66666666666667+6j)ishi'"
      ]
     },
     "execution_count": 122,
     "metadata": {},
     "output_type": "execute_result"
    }
   ],
   "source": [
    "str(o1) + 'ishi'"
   ]
  },
  {
   "cell_type": "code",
   "execution_count": 124,
   "id": "4c08ae1f",
   "metadata": {},
   "outputs": [],
   "source": [
    "#converting complex number to str, same way we converted str into int"
   ]
  },
  {
   "cell_type": "code",
   "execution_count": 125,
   "id": "369c9519",
   "metadata": {},
   "outputs": [],
   "source": [
    "#every system or language follows the BADMAS rule"
   ]
  },
  {
   "cell_type": "code",
   "execution_count": 137,
   "id": "118f9005",
   "metadata": {},
   "outputs": [
    {
     "ename": "SyntaxError",
     "evalue": "invalid syntax (CreatorTemp/ipykernel_20256/1744681903.py, line 1)",
     "output_type": "error",
     "traceback": [
      "\u001b[1;36m  File \u001b[1;32m\"C:\\Users\\Public\\Documents\\iSkysoft\\CreatorTemp/ipykernel_20256/1744681903.py\"\u001b[1;36m, line \u001b[1;32m1\u001b[0m\n\u001b[1;33m    1 a = int(input (\"enter an integer \"))\u001b[0m\n\u001b[1;37m      ^\u001b[0m\n\u001b[1;31mSyntaxError\u001b[0m\u001b[1;31m:\u001b[0m invalid syntax\n"
     ]
    }
   ],
   "source": []
  },
  {
   "cell_type": "code",
   "execution_count": 138,
   "id": "a307608e",
   "metadata": {},
   "outputs": [
    {
     "ename": "SyntaxError",
     "evalue": "invalid syntax (CreatorTemp/ipykernel_20256/1744681903.py, line 1)",
     "output_type": "error",
     "traceback": [
      "\u001b[1;36m  File \u001b[1;32m\"C:\\Users\\Public\\Documents\\iSkysoft\\CreatorTemp/ipykernel_20256/1744681903.py\"\u001b[1;36m, line \u001b[1;32m1\u001b[0m\n\u001b[1;33m    1 a = int(input (\"enter an integer \"))\u001b[0m\n\u001b[1;37m      ^\u001b[0m\n\u001b[1;31mSyntaxError\u001b[0m\u001b[1;31m:\u001b[0m invalid syntax\n"
     ]
    }
   ],
   "source": []
  },
  {
   "cell_type": "code",
   "execution_count": 139,
   "id": "aed42f56",
   "metadata": {},
   "outputs": [
    {
     "name": "stdout",
     "output_type": "stream",
     "text": [
      "enter an integer 1\n",
      "enter an integer 2\n",
      "enter an integer 3\n"
     ]
    }
   ],
   "source": [
    "a = int(input (\"enter an integer \"))\n",
    "b = int(input (\"enter an integer \"))\n",
    "c = int(input (\"enter an integer \"))"
   ]
  },
  {
   "cell_type": "code",
   "execution_count": 140,
   "id": "08259f8e",
   "metadata": {},
   "outputs": [
    {
     "data": {
      "text/plain": [
       "'(79.66666666666667+6j)ishi'"
      ]
     },
     "execution_count": 140,
     "metadata": {},
     "output_type": "execute_result"
    }
   ],
   "source": [
    "o = a + b / c\n",
    "o1 = o + 78 + 6j\n",
    "str(o1) + \"ishi\""
   ]
  },
  {
   "cell_type": "code",
   "execution_count": 141,
   "id": "7964ec05",
   "metadata": {},
   "outputs": [
    {
     "name": "stdout",
     "output_type": "stream",
     "text": [
      "input a number lesser than 34 - 30\n"
     ]
    }
   ],
   "source": [
    "a = int(input(\"input a number lesser than 34 - \"))"
   ]
  },
  {
   "cell_type": "code",
   "execution_count": 142,
   "id": "732e7af6",
   "metadata": {},
   "outputs": [],
   "source": [
    "if a < 34:\n",
    "    pass"
   ]
  },
  {
   "cell_type": "code",
   "execution_count": 143,
   "id": "4eecf2aa",
   "metadata": {},
   "outputs": [
    {
     "name": "stdout",
     "output_type": "stream",
     "text": [
      "data input is lesser than 34\n"
     ]
    }
   ],
   "source": [
    "if a < 34 :\n",
    "    print(\"data input is lesser than 34\")"
   ]
  },
  {
   "cell_type": "code",
   "execution_count": 144,
   "id": "1ae95efb",
   "metadata": {},
   "outputs": [
    {
     "name": "stdout",
     "output_type": "stream",
     "text": [
      "input a number lesser than 34 - 32\n",
      "data input is lesser than 34\n"
     ]
    }
   ],
   "source": [
    "a = int(input(\"input a number lesser than 34 - \"))\n",
    "if a < 34 :\n",
    "    print(\"data input is lesser than 34\")"
   ]
  },
  {
   "cell_type": "code",
   "execution_count": 145,
   "id": "a2e680df",
   "metadata": {},
   "outputs": [
    {
     "name": "stdout",
     "output_type": "stream",
     "text": [
      "input a number lesser than 34 - 78\n"
     ]
    }
   ],
   "source": [
    "a = int(input(\"input a number lesser than 34 - \"))\n",
    "if a < 34 :\n",
    "    print(\"data input is lesser than 34\")\n"
   ]
  },
  {
   "cell_type": "code",
   "execution_count": 148,
   "id": "a756f3da",
   "metadata": {},
   "outputs": [],
   "source": [
    "#curly braces {} ususally signifies the body in other progamming languages but not in PYTHON\n",
    "#indentation is important for python so we need to give space before print after conditional function\n",
    "#colon is important at the end of the function statement for if/elif/etc\n",
    "#follow error message to find out and rectify the errors"
   ]
  },
  {
   "cell_type": "code",
   "execution_count": 149,
   "id": "508123f8",
   "metadata": {},
   "outputs": [
    {
     "ename": "IndentationError",
     "evalue": "expected an indented block (CreatorTemp/ipykernel_20256/3935641734.py, line 3)",
     "output_type": "error",
     "traceback": [
      "\u001b[1;36m  File \u001b[1;32m\"C:\\Users\\Public\\Documents\\iSkysoft\\CreatorTemp/ipykernel_20256/3935641734.py\"\u001b[1;36m, line \u001b[1;32m3\u001b[0m\n\u001b[1;33m    print(\"data input is lesser than 34\")\u001b[0m\n\u001b[1;37m    ^\u001b[0m\n\u001b[1;31mIndentationError\u001b[0m\u001b[1;31m:\u001b[0m expected an indented block\n"
     ]
    }
   ],
   "source": [
    "a = int(input(\"input a number lesser than 34 - \"))\n",
    "if a < 34 :\n",
    "print(\"data input is lesser than 34\")"
   ]
  },
  {
   "cell_type": "code",
   "execution_count": 150,
   "id": "451fb972",
   "metadata": {},
   "outputs": [
    {
     "name": "stdout",
     "output_type": "stream",
     "text": [
      "input a number lesser than 34 - 6886\n"
     ]
    }
   ],
   "source": [
    "a = int(input(\"input a number lesser than 34 - \"))\n",
    "if a < 34 :\n",
    "    pass\n",
    "    print(\"data input is lesser than 34\")"
   ]
  },
  {
   "cell_type": "code",
   "execution_count": 151,
   "id": "e95da732",
   "metadata": {},
   "outputs": [],
   "source": [
    "#note pass means we are not following the operation and the print is working outside the loop"
   ]
  },
  {
   "cell_type": "code",
   "execution_count": 152,
   "id": "f1cacf27",
   "metadata": {},
   "outputs": [
    {
     "name": "stdout",
     "output_type": "stream",
     "text": [
      "input a number lesser than 34 - 98\n",
      "user input is greater than 34\n"
     ]
    }
   ],
   "source": [
    "a = int(input(\"input a number lesser than 34 - \"))\n",
    "if a < 34 :\n",
    "    print(\"data input is lesser than 34\")\n",
    "else:\n",
    "    print(\"user input is greater than 34\")"
   ]
  },
  {
   "cell_type": "code",
   "execution_count": 153,
   "id": "343ffebf",
   "metadata": {},
   "outputs": [
    {
     "name": "stdout",
     "output_type": "stream",
     "text": [
      "input a number lesser than 34 - 78\n",
      "my data is lesser than 100\n"
     ]
    }
   ],
   "source": [
    "a = int(input(\"input a number lesser than 34 - \"))\n",
    "if a < 34 :\n",
    "    print(\"data input is lesser than 34\")\n",
    "elif a < 100:\n",
    "    print(\"my data is lesser than 100\")\n",
    "else:\n",
    "    print(\"user input is greater than 34\")"
   ]
  },
  {
   "cell_type": "code",
   "execution_count": 154,
   "id": "8adce3a0",
   "metadata": {},
   "outputs": [],
   "source": [
    "#note that 2nd condition is executed before the 3rd one"
   ]
  },
  {
   "cell_type": "code",
   "execution_count": 163,
   "id": "c3f3391b",
   "metadata": {},
   "outputs": [
    {
     "name": "stdout",
     "output_type": "stream",
     "text": [
      "enter your salary 2000\n",
      "i will go for savings\n"
     ]
    }
   ],
   "source": [
    "salary = int(input(\"enter your salary \"))\n",
    "if salary < 1000:\n",
    "    print(\"I will buy a car \")\n",
    "elif salary < 500:\n",
    "    print(\"I will go for bike\")\n",
    "elif salary < 100:\n",
    "    print(\"I will not buy anything\")\n",
    "else:\n",
    "    print(\"i will go for savings\")\n",
    "\n",
    "#the first code itself will execute everytime we enter any input less than 1000\n",
    "#only for amounts more than 1000 it will execute the else part"
   ]
  },
  {
   "cell_type": "code",
   "execution_count": 168,
   "id": "d053c570",
   "metadata": {},
   "outputs": [
    {
     "name": "stdout",
     "output_type": "stream",
     "text": [
      "enter your salary 700\n",
      "i will go for savings\n"
     ]
    }
   ],
   "source": [
    "salary = int(input(\"enter your salary \"))\n",
    "if salary > 1000:\n",
    "    print(\"I will buy a car \")\n",
    "elif salary < 500:\n",
    "    print(\"I will go for bike\")\n",
    "elif salary < 100:\n",
    "    print(\"I will not buy anything\")\n",
    "else:\n",
    "    print(\"i will go for savings\")\n",
    "#if salary > 1000 it take 1st; from 500 - 999 savings; and 3rd elif will never come \n",
    "#it will be less than 500 result will always be bike"
   ]
  },
  {
   "cell_type": "code",
   "execution_count": 173,
   "id": "41e812c9",
   "metadata": {},
   "outputs": [
    {
     "name": "stdout",
     "output_type": "stream",
     "text": [
      "enter your salary 700\n",
      "i will go for savings\n"
     ]
    }
   ],
   "source": [
    "salary = int(input(\"enter your salary \"))\n",
    "if salary > 1000:\n",
    "    print(\"You have a good salary\")\n",
    "    if salary > 5000:\n",
    "        print(\"I will buy a Nano car \")\n",
    "        if True:\n",
    "            print(\"False code\")\n",
    "    elif salary > 10000:\n",
    "        print(\"I will go with Maruti\")\n",
    "    elif salary > 50000:\n",
    "        print(\"I will go with Toyota \")\n",
    "    else:\n",
    "        print(\"I will rent a car\")\n",
    "elif salary < 500:\n",
    "    print(\"I will go for bike\")\n",
    "elif salary < 100:\n",
    "    print(\"I will not buy anything\")\n",
    "else:\n",
    "    print(\"i will go for savings\")"
   ]
  },
  {
   "cell_type": "code",
   "execution_count": 175,
   "id": "b26b860b",
   "metadata": {},
   "outputs": [],
   "source": [
    "#it will follow the hierarchy till the last levels are there\n",
    "#we cannot get maruti since only 1st condition 5000+ is being consider as 10k is more than 5k it part could never come\n",
    "#500 - 999 : savings\n",
    "#50k and 10k won't come neither would 100"
   ]
  },
  {
   "cell_type": "code",
   "execution_count": 176,
   "id": "c5439a9a",
   "metadata": {},
   "outputs": [
    {
     "name": "stdout",
     "output_type": "stream",
     "text": [
      "enter your salary 76\n",
      "I will go for bike\n"
     ]
    }
   ],
   "source": [
    "salary = int(input(\"enter your salary \"))\n",
    "if salary > 1000:\n",
    "    print(\"You have a good salary\")\n",
    "    if salary > 5000:\n",
    "        print(\"I will buy a Nano car \")\n",
    "        if True:\n",
    "            print(\"False code\")\n",
    "    elif salary > 10000:\n",
    "        print(\"I will go with Maruti\")\n",
    "    elif salary > 50000:\n",
    "        print(\"I will go with Toyota \")\n",
    "    else:\n",
    "        print(\"I will rent a car\")\n",
    "elif salary < 500:\n",
    "    print(\"I will go for bike\")\n",
    "elif salary < 100:\n",
    "    print(\"I will not buy anything\")\n",
    "else:\n",
    "    print(\"i will go for savings\")"
   ]
  },
  {
   "cell_type": "code",
   "execution_count": 177,
   "id": "84fb21b1",
   "metadata": {},
   "outputs": [
    {
     "name": "stdout",
     "output_type": "stream",
     "text": [
      "enter your salary 60000\n",
      "You have a good salary\n",
      "I will buy a Nano car \n",
      "False code\n"
     ]
    }
   ],
   "source": [
    "salary = int(input(\"enter your salary \"))\n",
    "if salary > 1000:\n",
    "    print(\"You have a good salary\")\n",
    "    if salary > 5000:\n",
    "        print(\"I will buy a Nano car \")\n",
    "        if True:\n",
    "            print(\"False code\")\n",
    "    elif salary > 10000:\n",
    "        print(\"I will go with Maruti\")\n",
    "    elif salary > 50000:\n",
    "        print(\"I will go with Toyota \")\n",
    "    else:\n",
    "        print(\"I will rent a car\")\n",
    "elif salary < 500:\n",
    "    print(\"I will go for bike\")\n",
    "elif salary < 100:\n",
    "    print(\"I will not buy anything\")\n",
    "else:\n",
    "    print(\"i will go for savings\")\n"
   ]
  },
  {
   "cell_type": "code",
   "execution_count": null,
   "id": "8283f9a9",
   "metadata": {},
   "outputs": [],
   "source": [
    "salary = int(input(\"enter your salary \"))\n",
    "if salary > 1000:\n",
    "    print(\"You have a good salary\")\n",
    "    if salary > 5000 and salary <= 10000:\n",
    "        print(\"I will buy a Nano car \")\n",
    "        if True:\n",
    "            print(\"False code\")\n",
    "    elif salary > 10000 and salary <= 50000:\n",
    "        print(\"I will go with Maruti\")\n",
    "    elif salary > 50000:\n",
    "        print(\"I will go with Toyota \")\n",
    "    else:\n",
    "        print(\"I will rent a car\")\n",
    "elif salary < 500 and salary > 100:\n",
    "    print(\"I will go for bike\")\n",
    "elif salary < 100:\n",
    "    print(\"I will not buy anything\")\n",
    "else:\n",
    "    print(\"i will go for savings\")"
   ]
  },
  {
   "cell_type": "code",
   "execution_count": null,
   "id": "4921ba1a",
   "metadata": {},
   "outputs": [],
   "source": []
  }
 ],
 "metadata": {
  "kernelspec": {
   "display_name": "Python 3 (ipykernel)",
   "language": "python",
   "name": "python3"
  },
  "language_info": {
   "codemirror_mode": {
    "name": "ipython",
    "version": 3
   },
   "file_extension": ".py",
   "mimetype": "text/x-python",
   "name": "python",
   "nbconvert_exporter": "python",
   "pygments_lexer": "ipython3",
   "version": "3.9.7"
  }
 },
 "nbformat": 4,
 "nbformat_minor": 5
}
